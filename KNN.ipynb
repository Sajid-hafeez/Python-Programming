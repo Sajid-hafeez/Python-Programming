{
 "cells": [
  {
   "cell_type": "markdown",
   "id": "ce11a3e0",
   "metadata": {},
   "source": [
    "# Task 1"
   ]
  },
  {
   "cell_type": "code",
   "execution_count": 3,
   "id": "dc3b46e7",
   "metadata": {},
   "outputs": [],
   "source": [
    "TP = 33\n",
    "FP = 10\n",
    "FN = 17\n",
    "TN = 40"
   ]
  },
  {
   "cell_type": "code",
   "execution_count": 4,
   "id": "310babbd",
   "metadata": {},
   "outputs": [
    {
     "name": "stdout",
     "output_type": "stream",
     "text": [
      "\n",
      "Performance Metrics\n",
      "TPR = Sensitivity = recal = 0.66\n",
      "TNR = Specificity = 0.80\n",
      "PPV = Precision = 0.77\n",
      "ACC = Accuracy = 0.73\n"
     ]
    }
   ],
   "source": [
    "print('\\nPerformance Metrics')\n",
    "#Sensitivity, hit rate, recall, or true positive rate\n",
    "print('TPR = Sensitivity = recal = '+'{:.2f}'.format(TP/(TP+FN)))\n",
    "# Specificity or true negative rate\n",
    "print('TNR = Specificity = '+'{:.2f}'.format(TN/(TN+FP)))\n",
    "# Precision or positive predictive value\n",
    "print('PPV = Precision = '+'{:.2f}'.format(TP/(TP+FP)))\n",
    "# Overall accuracy\n",
    "print('ACC = Accuracy = '+'{:.2f}'.format((TP+TN)/(TP+FP+FN+TN)))"
   ]
  },
  {
   "cell_type": "markdown",
   "id": "731d4d19",
   "metadata": {},
   "source": [
    "# Task 2 (a)"
   ]
  },
  {
   "cell_type": "code",
   "execution_count": 5,
   "id": "968e6edf",
   "metadata": {},
   "outputs": [],
   "source": [
    "import numpy as np\n",
    "DATA = np.loadtxt(\"data_Seminar-Supervised-Classification-K-NN-Performance-Metrics.txt\")\n",
    "\n",
    "X = DATA[:, 0:2]\n",
    "y = DATA[:, 2]"
   ]
  },
  {
   "cell_type": "code",
   "execution_count": 6,
   "id": "a29792e0",
   "metadata": {},
   "outputs": [],
   "source": [
    "from sklearn.model_selection import train_test_split\n",
    "trainX, testX, trainy, testy = train_test_split(X, y, test_size=0.2, random_state=2)"
   ]
  },
  {
   "cell_type": "code",
   "execution_count": 7,
   "id": "afe65b8e",
   "metadata": {},
   "outputs": [
    {
     "data": {
      "text/plain": [
       "KNeighborsClassifier(n_neighbors=3)"
      ]
     },
     "execution_count": 7,
     "metadata": {},
     "output_type": "execute_result"
    }
   ],
   "source": [
    "from sklearn.neighbors import KNeighborsClassifier\n",
    "model = KNeighborsClassifier(n_neighbors=3)\n",
    "model.fit(trainX, trainy)"
   ]
  },
  {
   "cell_type": "code",
   "execution_count": 8,
   "id": "5eaf0367",
   "metadata": {},
   "outputs": [
    {
     "name": "stdout",
     "output_type": "stream",
     "text": [
      "TP =  86\n",
      "FP =  22\n",
      "FN =  6\n",
      "TN =  86\n",
      "\n",
      "Performance Metrics\n",
      "TPR = Sensitivity = recal = 0.93\n",
      "TNR = Specificity = 0.80\n",
      "PPV = Precision = 0.80\n",
      "ACC = Accuracy = 0.86\n"
     ]
    }
   ],
   "source": [
    "from sklearn.metrics import confusion_matrix\n",
    "cnf_matrix = confusion_matrix(testy, model.predict(testX))\n",
    "\n",
    "TP = cnf_matrix[0][0]\n",
    "FP = cnf_matrix[0][1]\n",
    "FN = cnf_matrix[1][0]\n",
    "TN = cnf_matrix[1][1]\n",
    "print('TP = ', TP)\n",
    "print('FP = ', FP)\n",
    "print('FN = ', FN)\n",
    "print('TN = ', TN)\n",
    "\n",
    "print('\\nPerformance Metrics')\n",
    "#Sensitivity, hit rate, recall, or true positive rate\n",
    "print('TPR = Sensitivity = recal = '+'{:.2f}'.format(TP/(TP+FN)))\n",
    "# Specificity or true negative rate\n",
    "print('TNR = Specificity = '+'{:.2f}'.format(TN/(TN+FP)))\n",
    "# Precision or positive predictive value\n",
    "print('PPV = Precision = '+'{:.2f}'.format(TP/(TP+FP)))\n",
    "# Overall accuracy\n",
    "print('ACC = Accuracy = '+'{:.2f}'.format((TP+TN)/(TP+FP+FN+TN)))"
   ]
  },
  {
   "cell_type": "code",
   "execution_count": 9,
   "id": "17ba2076",
   "metadata": {},
   "outputs": [
    {
     "name": "stdout",
     "output_type": "stream",
     "text": [
      "\n",
      "Area Under The Curve: AUC = 0.904\n",
      "\n"
     ]
    },
    {
     "data": {
      "image/png": "[encoded data removed]",
      "text/plain": [
       "<Figure size 432x288 with 1 Axes>"
      ]
     },
     "metadata": {
      "needs_background": "light"
     },
     "output_type": "display_data"
    }
   ],
   "source": [
    "from sklearn.metrics import roc_curve\n",
    "from sklearn.metrics import roc_auc_score\n",
    "import matplotlib.pyplot as plt\n",
    "## predict probabilities\n",
    "probs = model.predict_proba(testX)\n",
    "# keep probabilities for the positive outcome only\n",
    "probs = probs[:, 1]\n",
    "# calculate roc curve\n",
    "fpr, tpr, thresholds = roc_curve(testy, probs)\n",
    "# calculate AUC\n",
    "auc = roc_auc_score(testy, probs)\n",
    "print('\\nArea Under The Curve: AUC = %.3f\\n' % auc)\n",
    "\n",
    "\n",
    "plt.figure()\n",
    "lw = 2\n",
    "plt.plot(fpr, tpr, color='darkorange', lw=lw, label='ROC curve (area = %0.2f)' % auc)\n",
    "plt.plot([0, 1], [0, 1], color='navy', lw=lw, linestyle='--')\n",
    "plt.xlim([0.0, 1.0])\n",
    "plt.ylim([0.0, 1.05])\n",
    "plt.xlabel('False Positive Rate')\n",
    "plt.ylabel('True Positive Rate')\n",
    "plt.title('Receiver operating characteristic')\n",
    "plt.legend(loc=\"lower right\")\n",
    "plt.show()"
   ]
  },
  {
   "cell_type": "markdown",
   "id": "43a3fb03",
   "metadata": {},
   "source": [
    "# Task 2 (b)"
   ]
  },
  {
   "cell_type": "code",
   "execution_count": 10,
   "id": "e2cc96df",
   "metadata": {},
   "outputs": [
    {
     "data": {
      "text/plain": [
       "KNeighborsClassifier(n_neighbors=7)"
      ]
     },
     "execution_count": 10,
     "metadata": {},
     "output_type": "execute_result"
    }
   ],
   "source": [
    "\n",
    "from sklearn.neighbors import KNeighborsClassifier\n",
    "model = KNeighborsClassifier(n_neighbors=7)\n",
    "model.fit(trainX, trainy)"
   ]
  },
  {
   "cell_type": "code",
   "execution_count": 11,
   "id": "9c7f5408",
   "metadata": {},
   "outputs": [
    {
     "name": "stdout",
     "output_type": "stream",
     "text": [
      "TP =  88\n",
      "FP =  20\n",
      "FN =  4\n",
      "TN =  88\n",
      "\n",
      "Performance Metrics\n",
      "TPR = Sensitivity = recal = 0.96\n",
      "TNR = Specificity = 0.81\n",
      "PPV = Precision = 0.81\n",
      "ACC = Accuracy = 0.88\n"
     ]
    }
   ],
   "source": [
    "from sklearn.metrics import confusion_matrix\n",
    "cnf_matrix = confusion_matrix(testy, model.predict(testX))\n",
    "\n",
    "TP = cnf_matrix[0][0]\n",
    "FP = cnf_matrix[0][1]\n",
    "FN = cnf_matrix[1][0]\n",
    "TN = cnf_matrix[1][1]\n",
    "print('TP = ', TP)\n",
    "print('FP = ', FP)\n",
    "print('FN = ', FN)\n",
    "print('TN = ', TN)\n",
    "\n",
    "print('\\nPerformance Metrics')\n",
    "#Sensitivity, hit rate, recall, or true positive rate\n",
    "print('TPR = Sensitivity = recal = '+'{:.2f}'.format(TP/(TP+FN)))\n",
    "# Specificity or true negative rate\n",
    "print('TNR = Specificity = '+'{:.2f}'.format(TN/(TN+FP)))\n",
    "# Precision or positive predictive value\n",
    "print('PPV = Precision = '+'{:.2f}'.format(TP/(TP+FP)))\n",
    "# Overall accuracy\n",
    "print('ACC = Accuracy = '+'{:.2f}'.format((TP+TN)/(TP+FP+FN+TN)))"
   ]
  },
  {
   "cell_type": "code",
   "execution_count": 12,
   "id": "7060ec55",
   "metadata": {},
   "outputs": [
    {
     "name": "stdout",
     "output_type": "stream",
     "text": [
      "\n",
      "Area Under The Curve: AUC = 0.926\n",
      "\n"
     ]
    },
    {
     "data": {
      "image/png": "[encoded data removed]",
      "text/plain": [
       "<Figure size 432x288 with 1 Axes>"
      ]
     },
     "metadata": {
      "needs_background": "light"
     },
     "output_type": "display_data"
    }
   ],
   "source": [
    "# from sklearn.metrics import roc_curve\n",
    "from sklearn.metrics import roc_auc_score\n",
    "import matplotlib.pyplot as plt\n",
    "## predict probabilities\n",
    "probs = model.predict_proba(testX)\n",
    "# keep probabilities for the positive outcome only\n",
    "probs = probs[:, 1]\n",
    "# calculate roc curve\n",
    "fpr, tpr, thresholds = roc_curve(testy, probs)\n",
    "# calculate AUC\n",
    "auc = roc_auc_score(testy, probs)\n",
    "print('\\nArea Under The Curve: AUC = %.3f\\n' % auc)\n",
    "\n",
    "\n",
    "plt.figure()\n",
    "lw = 2\n",
    "plt.plot(fpr, tpr, color='darkorange', lw=lw, label='ROC curve (area = %0.2f)' % auc)\n",
    "plt.plot([0, 1], [0, 1], color='navy', lw=lw, linestyle='--')\n",
    "plt.xlim([0.0, 1.0])\n",
    "plt.ylim([0.0, 1.05])\n",
    "plt.xlabel('False Positive Rate')\n",
    "plt.ylabel('True Positive Rate')\n",
    "plt.title('Receiver operating characteristic')\n",
    "plt.legend(loc=\"lower right\")\n",
    "plt.show()"
   ]
  },
  {
   "cell_type": "markdown",
   "id": "f436319c",
   "metadata": {},
   "source": [
    "# Conclusion"
   ]
  },
  {
   "cell_type": "markdown",
   "id": "a549ed2b",
   "metadata": {},
   "source": [
    "K = 7 is the better value beacuse we have better senstivity, Specificity , accuracy, and AUC."
   ]
  },
  {
   "cell_type": "markdown",
   "id": "8b865e1a",
   "metadata": {},
   "source": [
    "# Task 3"
   ]
  },
  {
   "cell_type": "markdown",
   "id": "8ae23426",
   "metadata": {},
   "source": [
    "f1 score is weighted average of the precision and recall values, where an F1 score reaches its best value at 1 and worst value at 0."
   ]
  },
  {
   "cell_type": "code",
   "execution_count": 14,
   "id": "fa0ac908",
   "metadata": {},
   "outputs": [
    {
     "name": "stdout",
     "output_type": "stream",
     "text": [
      "f1_score = 0.86\n"
     ]
    }
   ],
   "source": [
    "from sklearn.neighbors import KNeighborsClassifier\n",
    "model = KNeighborsClassifier(n_neighbors=3)\n",
    "model.fit(trainX, trainy)\n",
    "from sklearn.metrics import f1_score\n",
    "print('f1_score = '+'{:.2f}'.format(f1_score(testy, model.predict(testX), pos_label=1)))"
   ]
  },
  {
   "cell_type": "code",
   "execution_count": 15,
   "id": "cd15a2c6",
   "metadata": {},
   "outputs": [
    {
     "name": "stdout",
     "output_type": "stream",
     "text": [
      "f1_score = 0.88\n"
     ]
    }
   ],
   "source": [
    "from sklearn.neighbors import KNeighborsClassifier\n",
    "model = KNeighborsClassifier(n_neighbors=7)\n",
    "model.fit(trainX, trainy)\n",
    "from sklearn.metrics import f1_score\n",
    "print('f1_score = '+'{:.2f}'.format(f1_score(testy, model.predict(testX), pos_label=1)))"
   ]
  },
  {
   "cell_type": "markdown",
   "id": "d957c5f7",
   "metadata": {},
   "source": [
    "f1_score also suggest the k = 7 as well."
   ]
  },
  {
   "cell_type": "code",
   "execution_count": null,
   "id": "efc2a3fa",
   "metadata": {},
   "outputs": [],
   "source": []
  }
 ],
 "metadata": {
  "kernelspec": {
   "display_name": "Python 3",
   "language": "python",
   "name": "python3"
  },
  "language_info": {
   "codemirror_mode": {
    "name": "ipython",
    "version": 3
   },
   "file_extension": ".py",
   "mimetype": "text/x-python",
   "name": "python",
   "nbconvert_exporter": "python",
   "pygments_lexer": "ipython3",
   "version": "3.8.8"
  }
 },
 "nbformat": 4,
 "nbformat_minor": 5
}
